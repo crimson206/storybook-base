{
 "cells": [
  {
   "cell_type": "markdown",
   "metadata": {},
   "source": [
    "## 4/6/2024"
   ]
  },
  {
   "cell_type": "markdown",
   "metadata": {},
   "source": [
    "### Without Console\n",
    "\n",
    "added typescript from the tutorial, \n",
    "and many warning disappeared"
   ]
  },
  {
   "cell_type": "markdown",
   "metadata": {},
   "source": [
    "``` json\n",
    "{\n",
    "  \"name\": \"storybook-template\",\n",
    "  \"version\": \"0.1.0\",\n",
    "  \"description\": \"Storybook Template\",\n",
    "  \"main\": \"main.jsx\",\n",
    "  \"type\": \"module\",\n",
    "  \"repository\": {\n",
    "    \"type\": \"git\",\n",
    "    \"url\": \"https://github.com/crimson206/storybook-base\"\n",
    "  },\n",
    "  \"author\": \"crimson206 <110409356+crimson206@users.noreply.github.com>\",\n",
    "  \"license\": \"MIT\",\n",
    "  \"private\": true,\n",
    "  \"dependencies\": {\n",
    "    \"axios\": \"^1.7.2\",\n",
    "    \"react\": \"^18.3.1\",\n",
    "    \"react-dom\": \"^18.3.1\",\n",
    "    \"socket.io-client\": \"^4.7.5\"\n",
    "  },\n",
    "  \"scripts\": {\n",
    "    \"dev\": \"vite\",\n",
    "    \"build\": \"vite build\",\n",
    "    \"preview\": \"vite preview\",\n",
    "    \"storybook\": \"storybook dev -p 6006\",\n",
    "    \"build-storybook\": \"storybook build\"\n",
    "  },\n",
    "  \"devDependencies\": {\n",
    "    \"@storybook/addon-docs\": \"^8.1.4\",\n",
    "    \"@storybook/addon-essentials\": \"^8.1.4\",\n",
    "    \"@storybook/addon-interactions\": \"^8.1.4\",\n",
    "    \"@storybook/addon-links\": \"^8.1.4\",\n",
    "    \"@storybook/blocks\": \"^8.1.4\",\n",
    "    \"@storybook/react\": \"^8.1.4\",\n",
    "    \"@storybook/react-vite\": \"^8.1.4\",\n",
    "    \"@storybook/test\": \"^8.1.4\",\n",
    "    \"@types/react\": \"^18.2.66\",\n",
    "    \"@types/react-dom\": \"^18.2.22\",\n",
    "    \"@vitejs/plugin-react\": \"^4.2.1\",\n",
    "    \"eslint\": \"^8.57.0\",\n",
    "    \"eslint-plugin-react\": \"^7.34.1\",\n",
    "    \"eslint-plugin-react-hooks\": \"^4.6.0\",\n",
    "    \"eslint-plugin-react-refresh\": \"^0.4.6\",\n",
    "    \"eslint-plugin-storybook\": \"^0.8.0\",\n",
    "    \"prop-types\": \"^15.8.1\",\n",
    "    \"storybook\": \"^8.1.4\",\n",
    "    \"typescript\": \"^5.4.5\",\n",
    "    \"vite\": \"^5.2.0\"\n",
    "  },\n",
    "  \"resolutions\": {\n",
    "    \"jackspeak\": \"2.1.1\"\n",
    "  }\n",
    "}\n",
    "```"
   ]
  },
  {
   "cell_type": "markdown",
   "metadata": {},
   "source": [
    "```\n",
    "yarn\n",
    "Debugger listening on ws://127.0.0.1:53325/68ccca94-9a1a-4274-85ec-301ad2d15ae7\n",
    "For help, see: https://nodejs.org/en/docs/inspector\n",
    "Debugger attached.\n",
    "yarn install v1.22.22\n",
    "[1/4] Resolving packages...\n",
    "warning Resolution field \"jackspeak@2.1.1\" is incompatible with requested version \"jackspeak@^3.1.2\"\n",
    "[2/4] Fetching packages...\n",
    "[3/4] Linking dependencies...\n",
    "[4/4] Building fresh packages...\n",
    "Done in 7.97s.\n",
    "Waiting for the debugger to disconnect...\n",
    "```"
   ]
  },
  {
   "cell_type": "markdown",
   "metadata": {},
   "source": [
    "### With Console\n",
    "\n",
    "same result"
   ]
  }
 ],
 "metadata": {
  "language_info": {
   "name": "python"
  }
 },
 "nbformat": 4,
 "nbformat_minor": 2
}
